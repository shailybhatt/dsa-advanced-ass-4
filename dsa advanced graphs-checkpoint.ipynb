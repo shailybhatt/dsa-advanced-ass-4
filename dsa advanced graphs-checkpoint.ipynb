{
 "cells": [
  {
   "cell_type": "code",
   "execution_count": 1,
   "id": "6009137f",
   "metadata": {},
   "outputs": [
    {
     "name": "stdout",
     "output_type": "stream",
     "text": [
      "0\n",
      "1\n",
      "2\n",
      "3\n",
      "4\n"
     ]
    }
   ],
   "source": [
    "#1. Breadth First Traversal for a Graph\n",
    "\n",
    "graph = {0 : [1, 2],\n",
    "1 : [0, 3, 4],\n",
    "2 : [0, 4],\n",
    "3 : [1],\n",
    "4 : [1, 2]}\n",
    "\n",
    "queue = []\n",
    "output = []\n",
    "\n",
    "def BST(node, queue, graph):\n",
    "    queue.append(node)\n",
    "    output.append(node)\n",
    "    while queue:\n",
    "        item = queue.pop(0)\n",
    "        print(item)\n",
    "        for i in graph[item]:\n",
    "            if i not in output:\n",
    "                queue.append(i)\n",
    "                output.append(i)\n",
    "\n",
    "BST(0, queue, graph)"
   ]
  },
  {
   "cell_type": "code",
   "execution_count": 2,
   "id": "2ea402bc",
   "metadata": {},
   "outputs": [
    {
     "name": "stdout",
     "output_type": "stream",
     "text": [
      "0\n",
      "1\n",
      "3\n",
      "4\n",
      "2\n"
     ]
    }
   ],
   "source": [
    "#2. Depth First Traversal for a Graph\n",
    "\n",
    "graph = {0 : [1, 2],\n",
    "1 : [0, 3, 4],\n",
    "2 : [0, 4],\n",
    "3 : [1],\n",
    "4 : [1, 2]}\n",
    "\n",
    "def DFT(node, visited, graph):\n",
    "    if node not in visited:\n",
    "        print(node)\n",
    "        visited.add(node)\n",
    "        for i in graph[node]:\n",
    "            DFT(i, visited, graph)\n",
    "\n",
    "visited = set()\n",
    "\n",
    "DFT(0, visited, graph)"
   ]
  },
  {
   "cell_type": "code",
   "execution_count": 3,
   "id": "31642459",
   "metadata": {},
   "outputs": [
    {
     "name": "stdout",
     "output_type": "stream",
     "text": [
      "4\n"
     ]
    }
   ],
   "source": [
    "#3. Count the number of nodes at given level in a tree using BFS\n",
    "\n",
    "class TreeNode:\n",
    "    def __init__(self, val=0, left=None, right=None):\n",
    "        self.val = val\n",
    "        self.left = left\n",
    "        self.right = right\n",
    "\n",
    "def count_nodes_at_level(root, level):\n",
    "    if not root:\n",
    "        return 0\n",
    "    \n",
    "    queue = [(root, 0)]\n",
    "    count = 0\n",
    "    \n",
    "    while queue:\n",
    "        node, curr_level = queue.pop(0)\n",
    "        \n",
    "        if curr_level == level:\n",
    "            count += 1\n",
    "        \n",
    "        if node.left:\n",
    "            queue.append((node.left, curr_level+1))\n",
    "        if node.right:\n",
    "            queue.append((node.right, curr_level+1))\n",
    "            \n",
    "    return count\n",
    "\n",
    "# Creating the tree\n",
    "root = TreeNode(1)\n",
    "root.left = TreeNode(2)\n",
    "root.right = TreeNode(3)\n",
    "root.left.left = TreeNode(4)\n",
    "root.left.right = TreeNode(5)\n",
    "root.right.left = TreeNode(6)\n",
    "root.right.right = TreeNode(7)\n",
    "\n",
    "count = count_nodes_at_level(root, 2)\n",
    "print(count)"
   ]
  },
  {
   "cell_type": "code",
   "execution_count": 4,
   "id": "f902c4c0",
   "metadata": {},
   "outputs": [
    {
     "name": "stdout",
     "output_type": "stream",
     "text": [
      "2\n"
     ]
    }
   ],
   "source": [
    "#4. Count number of trees in a forest\n",
    "\n",
    "def count_trees_in_forest(forest):\n",
    "    visited = set()\n",
    "    count = 0\n",
    "    \n",
    "    def dfs(node):\n",
    "        visited.add(node)\n",
    "        \n",
    "        for neighbor in forest[node]:\n",
    "            if neighbor not in visited:\n",
    "                dfs(neighbor)\n",
    "    \n",
    "    for node in forest:\n",
    "        if node not in visited:\n",
    "            dfs(node)\n",
    "            count += 1\n",
    "    \n",
    "    return count\n",
    "\n",
    "\n",
    "forest = {\n",
    "    0: [1],\n",
    "    1: [0],\n",
    "    2: [3],\n",
    "    3: [2, 4],\n",
    "    4: [3]\n",
    "}\n",
    "\n",
    "# Count the number of trees\n",
    "num_trees = count_trees_in_forest(forest)\n",
    "\n",
    "print(num_trees)"
   ]
  },
  {
   "cell_type": "code",
   "execution_count": 5,
   "id": "885e29f1",
   "metadata": {},
   "outputs": [
    {
     "name": "stdout",
     "output_type": "stream",
     "text": [
      "True\n"
     ]
    }
   ],
   "source": [
    "#5. Detect Cycle in a Directed Graph\n",
    "\n",
    "graph = {0 : [1, 2],\n",
    "1 : [0, 3, 4],\n",
    "2 : [0, 4],\n",
    "3 : [1],\n",
    "4 : [1, 2]}\n",
    "\n",
    "\n",
    "def has_cycle(graph):\n",
    "    visited = set()\n",
    "    stack = set()\n",
    "    \n",
    "    def dfs(node):\n",
    "        visited.add(node)\n",
    "        stack.add(node)\n",
    "        \n",
    "        for neighbor in graph[node]:\n",
    "            if neighbor not in visited:\n",
    "                if dfs(neighbor):\n",
    "                    return True\n",
    "            elif neighbor in stack:\n",
    "                return True\n",
    "        \n",
    "        stack.remove(node)\n",
    "        return False\n",
    "    \n",
    "    for node in graph:\n",
    "        if node not in visited:\n",
    "            if dfs(node):\n",
    "                return True\n",
    "    \n",
    "    return False\n",
    "\n",
    "has_cycle = has_cycle(graph)\n",
    "\n",
    "print(has_cycle)"
   ]
  },
  {
   "cell_type": "code",
   "execution_count": 6,
   "id": "157f6998",
   "metadata": {},
   "outputs": [
    {
     "data": {
      "text/plain": [
       "[[1, 0, 0, 0, 0],\n",
       " [0, 0, 0, 1, 0],\n",
       " [0, 1, 0, 0, 0],\n",
       " [0, 0, 0, 0, 1],\n",
       " [0, 0, 1, 0, 0]]"
      ]
     },
     "execution_count": 6,
     "metadata": {},
     "output_type": "execute_result"
    }
   ],
   "source": [
    "#6. **Implement n-Queen’s Problem\n",
    "\n",
    "def solve_n_queens(n):\n",
    "    def is_safe(board, row, col):\n",
    "        for i in range(col):\n",
    "            if board[row][i] == 1:\n",
    "                return False\n",
    "        for i, j in zip(range(row, -1, -1), range(col, -1, -1)):\n",
    "            if board[i][j] == 1:\n",
    "                return False\n",
    "        for i, j in zip(range(row, n, 1), range(col, -1, -1)):\n",
    "            if board[i][j] == 1:\n",
    "                return False\n",
    "        \n",
    "        return True\n",
    "    \n",
    "    def backtrack(board, col):\n",
    "        if col >= n:\n",
    "            return True\n",
    "        for i in range(n):\n",
    "            if is_safe(board, i, col):\n",
    "                board[i][col] = 1\n",
    "                if backtrack(board, col+1):\n",
    "                    return True\n",
    "                board[i][col] = 0\n",
    "        return False\n",
    "    board = [[0 for i in range(n)] for j in range(n)]\n",
    "    if backtrack(board, 0):\n",
    "        return board\n",
    "    return None\n",
    "\n",
    "solve_n_queens(5)"
   ]
  },
  {
   "cell_type": "code",
   "execution_count": null,
   "id": "a2206678",
   "metadata": {},
   "outputs": [],
   "source": []
  }
 ],
 "metadata": {
  "kernelspec": {
   "display_name": "Python 3 (ipykernel)",
   "language": "python",
   "name": "python3"
  },
  "language_info": {
   "codemirror_mode": {
    "name": "ipython",
    "version": 3
   },
   "file_extension": ".py",
   "mimetype": "text/x-python",
   "name": "python",
   "nbconvert_exporter": "python",
   "pygments_lexer": "ipython3",
   "version": "3.9.13"
  }
 },
 "nbformat": 4,
 "nbformat_minor": 5
}
